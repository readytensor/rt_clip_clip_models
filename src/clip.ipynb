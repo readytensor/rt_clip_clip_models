{
 "cells": [
  {
   "cell_type": "code",
   "execution_count": 46,
   "metadata": {},
   "outputs": [],
   "source": [
    "import math\n",
    "import torch\n",
    "import numpy as np\n",
    "import torch.nn as nn\n",
    "import matplotlib.pyplot as plt\n",
    "from tqdm import tqdm\n",
    "from clip import CLIPModel\n",
    "from torch.optim import AdamW\n",
    "from torch.optim.lr_scheduler import LambdaLR\n",
    "from torch.utils.data import Dataset, DataLoader\n",
    "from torchvision import transforms\n",
    "from datasets import load_dataset\n",
    "from transformers import AutoTokenizer\n",
    "\n",
    "device = \"cuda\" if torch.cuda.is_available() else \"mps\" if torch.backends.mps.is_available() else \"cpu\""
   ]
  },
  {
   "cell_type": "code",
   "execution_count": 47,
   "metadata": {},
   "outputs": [],
   "source": [
    "captions_col = 'text_EN'\n",
    "image_col = 'img'    \n",
    "ds = load_dataset(\"Attila1011/img_caption_EN_AppleFlair_Blip\")\n",
    "\n",
    "ds = ds['train']\n",
    "\n",
    "# Split the dataset: take 2000 rows for testing, and the rest will remain for training\n",
    "train_test_split = ds.train_test_split(test_size=2000, seed=42)\n",
    "\n",
    "# Access the splits\n",
    "train_split = train_test_split['train']\n",
    "test_split = train_test_split['test']\n"
   ]
  },
  {
   "cell_type": "code",
   "execution_count": 48,
   "metadata": {},
   "outputs": [
    {
     "data": {
      "application/vnd.jupyter.widget-view+json": {
       "model_id": "3c40d1ec27b844688f4e87c8cae02279",
       "version_major": 2,
       "version_minor": 0
      },
      "text/plain": [
       "Saving the dataset (0/1 shards):   0%|          | 0/2000 [00:00<?, ? examples/s]"
      ]
     },
     "metadata": {},
     "output_type": "display_data"
    }
   ],
   "source": [
    "# save the test split to a file\n",
    "test_split.save_to_disk('test_split')"
   ]
  },
  {
   "cell_type": "code",
   "execution_count": 49,
   "metadata": {},
   "outputs": [],
   "source": [
    "tokenizer = AutoTokenizer.from_pretrained(\"gpt2\")\n",
    "tokenizer.pad_token = tokenizer.eos_token"
   ]
  },
  {
   "cell_type": "code",
   "execution_count": 50,
   "metadata": {},
   "outputs": [],
   "source": [
    "class HuggingFaceImageTextDataset(Dataset):\n",
    "    def __init__(self, hf_dataset, transform=None):\n",
    "        self.dataset = hf_dataset\n",
    "        self.transform = transform\n",
    "        tokenized_output = tokenizer(self.dataset[captions_col], padding='max_length', truncation=True, max_length=16, return_tensors='pt')\n",
    "\n",
    "        self.caption_tokens = tokenized_output['input_ids']\n",
    "\n",
    "        self.attention_mask = tokenized_output['attention_mask']\n",
    "\n",
    "    def __len__(self):\n",
    "        return len(self.dataset)\n",
    "\n",
    "    def __getitem__(self, idx):\n",
    "        # Get the image and the text label\n",
    "        image = self.dataset[idx][image_col] \n",
    "        caption = self.caption_tokens[idx]\n",
    "        mask = self.attention_mask[idx]\n",
    "\n",
    "        if np.array(image).shape[-1] != 3:\n",
    "            image = self.dataset[0][image_col] \n",
    "            caption = self.caption_tokens[0]\n",
    "            mask = self.attention_mask[0]\n",
    "\n",
    "        # Apply transformations to the image\n",
    "        if self.transform:\n",
    "            image = self.transform(image)\n",
    "\n",
    "        # Return the image tensor and the text (or caption)\n",
    "        return image, caption, mask\n",
    "\n",
    "# Example transform (for images)\n",
    "transform = transforms.Compose([\n",
    "    transforms.Resize((224, 224)),  # Resize the image\n",
    "    transforms.ToTensor(),          # Convert image to a tensor\n",
    "    transforms.Normalize(mean=[0.485, 0.456, 0.406], std=[0.229, 0.224, 0.225]),  # Normalize (using ImageNet stats)\n",
    "])\n",
    "\n",
    "# Instantiate the custom dataset\n",
    "train_dataset = HuggingFaceImageTextDataset(train_split, transform=transform)\n",
    "val_dataset = HuggingFaceImageTextDataset(test_split, transform=transform)\n",
    "\n",
    "# Create DataLoader for batching\n",
    "train_dataloader = DataLoader(train_dataset, batch_size=32, shuffle=True)\n",
    "val_dataloader = DataLoader(val_dataset, batch_size=32, shuffle=True)"
   ]
  },
  {
   "cell_type": "code",
   "execution_count": 55,
   "metadata": {},
   "outputs": [
    {
     "data": {
      "text/plain": [
       "CLIPModel(\n",
       "  (image_embeddings): ImageEmbeddings(\n",
       "    (patch_embedding): Conv2d(3, 512, kernel_size=(16, 16), stride=(16, 16), padding=valid)\n",
       "    (position_embedding): Embedding(196, 512)\n",
       "  )\n",
       "  (image_encoder): ImageEncoder(\n",
       "    (layers): ModuleList(\n",
       "      (0-2): 3 x ImageEncoderLayer(\n",
       "        (norm1): LayerNorm((512,), eps=1e-06, elementwise_affine=True)\n",
       "        (attn): Attention(\n",
       "          (wq): Linear(in_features=512, out_features=512, bias=False)\n",
       "          (wk): Linear(in_features=512, out_features=512, bias=False)\n",
       "          (wv): Linear(in_features=512, out_features=512, bias=False)\n",
       "          (attn_drop): Dropout(p=0.0, inplace=False)\n",
       "          (wo): Linear(in_features=512, out_features=512, bias=True)\n",
       "          (proj_drop): Dropout(p=0.0, inplace=False)\n",
       "        )\n",
       "        (norm2): LayerNorm((512,), eps=1e-05, elementwise_affine=True)\n",
       "        (mlp): MLP(\n",
       "          (fc1): Linear(in_features=512, out_features=2048, bias=True)\n",
       "          (act): GELU(approximate='none')\n",
       "          (fc2): Linear(in_features=2048, out_features=512, bias=True)\n",
       "          (drop): Dropout(p=0.0, inplace=False)\n",
       "        )\n",
       "      )\n",
       "    )\n",
       "  )\n",
       "  (image_ln_final): LayerNorm((512,), eps=1e-05, elementwise_affine=True)\n",
       "  (text_encoder): GPT2Model(\n",
       "    (wte): Embedding(50257, 256)\n",
       "    (wpe): Embedding(16, 256)\n",
       "    (drop): Dropout(p=0.1, inplace=False)\n",
       "    (h): ModuleList(\n",
       "      (0-2): 3 x GPT2Block(\n",
       "        (ln_1): LayerNorm((256,), eps=1e-05, elementwise_affine=True)\n",
       "        (attn): GPT2SdpaAttention(\n",
       "          (c_attn): Conv1D(nf=768, nx=256)\n",
       "          (c_proj): Conv1D(nf=256, nx=256)\n",
       "          (attn_dropout): Dropout(p=0.1, inplace=False)\n",
       "          (resid_dropout): Dropout(p=0.1, inplace=False)\n",
       "        )\n",
       "        (ln_2): LayerNorm((256,), eps=1e-05, elementwise_affine=True)\n",
       "        (mlp): GPT2MLP(\n",
       "          (c_fc): Conv1D(nf=1024, nx=256)\n",
       "          (c_proj): Conv1D(nf=256, nx=1024)\n",
       "          (act): NewGELUActivation()\n",
       "          (dropout): Dropout(p=0.1, inplace=False)\n",
       "        )\n",
       "      )\n",
       "    )\n",
       "    (ln_f): LayerNorm((256,), eps=1e-05, elementwise_affine=True)\n",
       "  )\n",
       "  (text_ln_final): LayerNorm((256,), eps=1e-05, elementwise_affine=True)\n",
       "  (image_projection): Linear(in_features=512, out_features=256, bias=True)\n",
       "  (text_projection): Linear(in_features=256, out_features=256, bias=True)\n",
       ")"
      ]
     },
     "execution_count": 55,
     "metadata": {},
     "output_type": "execute_result"
    }
   ],
   "source": [
    "model_params = {\n",
    "    'embed_dim': 256,\n",
    "    'img_embed_dim': 512,\n",
    "    'patch_size': 16,\n",
    "    'image_size': 224,\n",
    "    'num_layers': 3,\n",
    "    'num_heads': 4,\n",
    "    'mlp_ratio': 4,\n",
    "}\n",
    "\n",
    "model = CLIPModel(**model_params)\n",
    "\n",
    "def initialize_weights(m):\n",
    "    if isinstance(m, nn.Linear):\n",
    "        # Xavier/Glorot initialization for linear layers\n",
    "        nn.init.xavier_uniform_(m.weight)\n",
    "        if m.bias is not None:\n",
    "            nn.init.constant_(m.bias, 0)  # Initialize biases to 0\n",
    "    elif isinstance(m, nn.Conv2d):\n",
    "        # Kaiming initialization for convolutional layers\n",
    "        nn.init.kaiming_normal_(m.weight, mode='fan_out', nonlinearity='relu')\n",
    "        if m.bias is not None:\n",
    "            nn.init.constant_(m.bias, 0)\n",
    "    elif isinstance(m, nn.LayerNorm):\n",
    "        # Initialize LayerNorm to standard normal\n",
    "        nn.init.constant_(m.bias, 0)\n",
    "        nn.init.constant_(m.weight, 1.0)\n",
    "\n",
    "model.apply(initialize_weights)"
   ]
  },
  {
   "cell_type": "code",
   "execution_count": 56,
   "metadata": {},
   "outputs": [],
   "source": [
    "def get_cosine_schedule_with_warmup(\n",
    "    optimizer,\n",
    "    num_warmup_steps: int,\n",
    "    num_training_steps: int,\n",
    "    num_cycles: float = 0.5,\n",
    "    min_lr_ratio: float = 0.01\n",
    "):\n",
    "    \"\"\"\n",
    "    Create a schedule with a learning rate that decreases following the values of the cosine function between the\n",
    "    initial lr set in the optimizer to 0, after a warmup period during which it increases linearly between 0 and the\n",
    "    initial lr set in the optimizer.\n",
    "    \"\"\"\n",
    "    def lr_lambda(current_step):\n",
    "        # Warmup\n",
    "        if current_step < num_warmup_steps:\n",
    "            return float(current_step) / float(max(1, num_warmup_steps))\n",
    "        \n",
    "        # Cosine decay\n",
    "        progress = float(current_step - num_warmup_steps) / float(max(1, num_training_steps - num_warmup_steps))\n",
    "        cosine_decay = 0.5 * (1.0 + math.cos(math.pi * num_cycles * 2.0 * progress))\n",
    "        \n",
    "        # Ensure we don't go below min_lr_ratio\n",
    "        return max(min_lr_ratio, cosine_decay)\n",
    "\n",
    "    return LambdaLR(optimizer, lr_lambda)\n",
    "\n",
    "def train_clip(\n",
    "    model,\n",
    "    train_dataloader: DataLoader,\n",
    "    val_dataloader: DataLoader,\n",
    "    num_epochs: int = 20,\n",
    "    learning_rate: float = 1e-4,\n",
    "    weight_decay: float = 0.1,\n",
    "    warmup_ratio: float = 0.1,\n",
    "    min_lr_ratio: float = 0.01,\n",
    "    device: str = 'cuda'\n",
    "):\n",
    "    avg_train_losses = []\n",
    "    avg_val_losses = []\n",
    "    # Move model to device\n",
    "    model.to(device)\n",
    "    \n",
    "    # Calculate total steps\n",
    "    total_steps = len(train_dataloader) * num_epochs\n",
    "    warmup_steps = int(total_steps * warmup_ratio)\n",
    "    \n",
    "    # Initialize optimizer\n",
    "    optimizer = AdamW(\n",
    "        model.parameters(),\n",
    "        lr=learning_rate,\n",
    "        betas=(0.9, 0.999),\n",
    "        eps=1e-8,\n",
    "        weight_decay=weight_decay\n",
    "    )\n",
    "    \n",
    "    # Initialize scheduler\n",
    "    scheduler = get_cosine_schedule_with_warmup(\n",
    "        optimizer,\n",
    "        num_warmup_steps=warmup_steps,\n",
    "        num_training_steps=total_steps,\n",
    "        min_lr_ratio=min_lr_ratio\n",
    "    )\n",
    "    \n",
    "    # Training loop\n",
    "    best_loss = float('inf')\n",
    "    \n",
    "    for epoch in range(num_epochs):\n",
    "        model.train()\n",
    "        losses = []\n",
    "        \n",
    "        # Progress bar for batches\n",
    "        progress_bar = tqdm(train_dataloader, desc=f\"Epoch {epoch+1}/{num_epochs}\")\n",
    "        \n",
    "        for  images, captions, mask in progress_bar:\n",
    "            # Zero the gradients\n",
    "            optimizer.zero_grad()\n",
    "            \n",
    "            # Move data to device\n",
    "            images = images.to(device)\n",
    "            captions = captions.to(device)\n",
    "            if mask is not None:\n",
    "                mask = mask.to(device)\n",
    "            \n",
    "            # Forward pass\n",
    "            image_embeddings, text_embeddings = model(images, captions, mask)\n",
    "            \n",
    "            # Compute loss\n",
    "            loss = model.clip_loss(image_embeddings, text_embeddings)\n",
    "            \n",
    "            # Backward pass\n",
    "            loss.backward()\n",
    "            \n",
    "            # Gradient clipping\n",
    "            torch.nn.utils.clip_grad_norm_(model.parameters(), max_norm=1.0)\n",
    "            \n",
    "            # Optimizer step\n",
    "            optimizer.step()\n",
    "            \n",
    "            # Scheduler step\n",
    "            scheduler.step()\n",
    "            \n",
    "            # Record loss\n",
    "            losses.append(loss.item())\n",
    "            \n",
    "            # Update progress bar\n",
    "            current_lr = scheduler.get_last_lr()[0]\n",
    "            progress_bar.set_postfix({\n",
    "                'loss': f\"{loss.item():.4f}\",\n",
    "                'lr': f\"{current_lr:.2e}\"\n",
    "            })\n",
    "        \n",
    "        # Calculate average loss for the epoch\n",
    "        avg_train_loss = sum(losses) / len(losses)\n",
    "\n",
    "        # Validation loop\n",
    "        model.eval()\n",
    "        val_losses = []\n",
    "\n",
    "        with torch.no_grad():\n",
    "            for images, captions, mask in tqdm(val_dataloader, desc=\"Validation Loop\"):\n",
    "                # Move data to device\n",
    "                images = images.to(device)\n",
    "                captions = captions.to(device)\n",
    "                if mask is not None:\n",
    "                    mask = mask.to(device)\n",
    "                \n",
    "                # Forward pass\n",
    "                image_embeddings, text_embeddings = model(images, captions, mask)\n",
    "                \n",
    "                # Compute loss\n",
    "                loss = model.clip_loss(image_embeddings, text_embeddings)\n",
    "                \n",
    "                # Record loss\n",
    "                val_losses.append(loss.item())\n",
    "\n",
    "        # Calculate average validation loss\n",
    "        avg_val_loss = sum(val_losses) / len(val_losses)\n",
    "        \n",
    "        # Save best model\n",
    "        if avg_val_loss < best_loss:\n",
    "            best_loss = avg_val_loss\n",
    "            torch.save({\n",
    "                'epoch': epoch,\n",
    "                'model_state_dict': model.state_dict(),\n",
    "                'optimizer_state_dict': optimizer.state_dict(),\n",
    "                'scheduler_state_dict': scheduler.state_dict(),\n",
    "                'loss': best_loss,\n",
    "                'model_params': model_params\n",
    "            }, 'best_clip_model.pth')\n",
    "        \n",
    "        print(f\"Epoch {epoch+1}/{num_epochs}\")\n",
    "        print(f\"Average Train Loss: {avg_train_loss:.4f}\")\n",
    "        print(f\"Average Validation Loss: {avg_val_loss:.4f}\")\n",
    "        print(f\"Learning Rate: {scheduler.get_last_lr()[0]:.2e}\")\n",
    "        print(\"-\" * 50)\n",
    "\n",
    "        avg_train_losses.append(avg_train_loss)\n",
    "        avg_val_losses.append(avg_val_loss)\n",
    "    return avg_train_losses, avg_val_losses\n"
   ]
  },
  {
   "cell_type": "code",
   "execution_count": 57,
   "metadata": {},
   "outputs": [
    {
     "name": "stderr",
     "output_type": "stream",
     "text": [
      "Epoch 1/10: 100%|██████████| 563/563 [02:08<00:00,  4.39it/s, loss=2.2053, lr=1.00e-04]\n",
      "Validation Loop: 100%|██████████| 63/63 [00:08<00:00,  7.52it/s]\n"
     ]
    },
    {
     "name": "stdout",
     "output_type": "stream",
     "text": [
      "Epoch 1/10\n",
      "Average Train Loss: 3.2760\n",
      "Average Validation Loss: 3.0762\n",
      "Learning Rate: 1.00e-04\n",
      "--------------------------------------------------\n"
     ]
    },
    {
     "name": "stderr",
     "output_type": "stream",
     "text": [
      "Epoch 2/10: 100%|██████████| 563/563 [02:10<00:00,  4.32it/s, loss=2.1652, lr=9.70e-05]\n",
      "Validation Loop: 100%|██████████| 63/63 [00:08<00:00,  7.23it/s]\n"
     ]
    },
    {
     "name": "stdout",
     "output_type": "stream",
     "text": [
      "Epoch 2/10\n",
      "Average Train Loss: 2.9630\n",
      "Average Validation Loss: 2.8288\n",
      "Learning Rate: 9.70e-05\n",
      "--------------------------------------------------\n"
     ]
    },
    {
     "name": "stderr",
     "output_type": "stream",
     "text": [
      "Epoch 3/10: 100%|██████████| 563/563 [02:11<00:00,  4.27it/s, loss=1.8403, lr=8.83e-05]\n",
      "Validation Loop: 100%|██████████| 63/63 [00:08<00:00,  7.52it/s]\n"
     ]
    },
    {
     "name": "stdout",
     "output_type": "stream",
     "text": [
      "Epoch 3/10\n",
      "Average Train Loss: 2.7236\n",
      "Average Validation Loss: 2.7497\n",
      "Learning Rate: 8.83e-05\n",
      "--------------------------------------------------\n"
     ]
    },
    {
     "name": "stderr",
     "output_type": "stream",
     "text": [
      "Epoch 4/10: 100%|██████████| 563/563 [02:15<00:00,  4.16it/s, loss=2.3180, lr=7.50e-05]\n",
      "Validation Loop: 100%|██████████| 63/63 [00:08<00:00,  7.25it/s]\n"
     ]
    },
    {
     "name": "stdout",
     "output_type": "stream",
     "text": [
      "Epoch 4/10\n",
      "Average Train Loss: 2.5562\n",
      "Average Validation Loss: 2.6685\n",
      "Learning Rate: 7.50e-05\n",
      "--------------------------------------------------\n"
     ]
    },
    {
     "name": "stderr",
     "output_type": "stream",
     "text": [
      "Epoch 5/10: 100%|██████████| 563/563 [02:17<00:00,  4.10it/s, loss=2.0332, lr=5.87e-05]\n",
      "Validation Loop: 100%|██████████| 63/63 [00:09<00:00,  6.84it/s]\n"
     ]
    },
    {
     "name": "stdout",
     "output_type": "stream",
     "text": [
      "Epoch 5/10\n",
      "Average Train Loss: 2.4025\n",
      "Average Validation Loss: 2.6494\n",
      "Learning Rate: 5.87e-05\n",
      "--------------------------------------------------\n"
     ]
    },
    {
     "name": "stderr",
     "output_type": "stream",
     "text": [
      "Epoch 6/10: 100%|██████████| 563/563 [02:17<00:00,  4.10it/s, loss=1.7398, lr=4.13e-05]\n",
      "Validation Loop: 100%|██████████| 63/63 [00:08<00:00,  7.04it/s]\n"
     ]
    },
    {
     "name": "stdout",
     "output_type": "stream",
     "text": [
      "Epoch 6/10\n",
      "Average Train Loss: 2.2595\n",
      "Average Validation Loss: 2.6569\n",
      "Learning Rate: 4.13e-05\n",
      "--------------------------------------------------\n"
     ]
    },
    {
     "name": "stderr",
     "output_type": "stream",
     "text": [
      "Epoch 7/10: 100%|██████████| 563/563 [02:18<00:00,  4.06it/s, loss=1.3657, lr=2.50e-05]\n",
      "Validation Loop: 100%|██████████| 63/63 [00:08<00:00,  7.19it/s]\n"
     ]
    },
    {
     "name": "stdout",
     "output_type": "stream",
     "text": [
      "Epoch 7/10\n",
      "Average Train Loss: 2.1296\n",
      "Average Validation Loss: 2.6698\n",
      "Learning Rate: 2.50e-05\n",
      "--------------------------------------------------\n"
     ]
    },
    {
     "name": "stderr",
     "output_type": "stream",
     "text": [
      "Epoch 8/10: 100%|██████████| 563/563 [02:19<00:00,  4.02it/s, loss=1.6164, lr=1.17e-05]\n",
      "Validation Loop: 100%|██████████| 63/63 [00:08<00:00,  7.09it/s]\n"
     ]
    },
    {
     "name": "stdout",
     "output_type": "stream",
     "text": [
      "Epoch 8/10\n",
      "Average Train Loss: 2.0062\n",
      "Average Validation Loss: 2.6931\n",
      "Learning Rate: 1.17e-05\n",
      "--------------------------------------------------\n"
     ]
    },
    {
     "name": "stderr",
     "output_type": "stream",
     "text": [
      "Epoch 9/10: 100%|██████████| 563/563 [02:21<00:00,  3.99it/s, loss=1.1964, lr=3.02e-06]\n",
      "Validation Loop: 100%|██████████| 63/63 [00:09<00:00,  6.89it/s]\n"
     ]
    },
    {
     "name": "stdout",
     "output_type": "stream",
     "text": [
      "Epoch 9/10\n",
      "Average Train Loss: 1.9203\n",
      "Average Validation Loss: 2.7532\n",
      "Learning Rate: 3.02e-06\n",
      "--------------------------------------------------\n"
     ]
    },
    {
     "name": "stderr",
     "output_type": "stream",
     "text": [
      "Epoch 10/10: 100%|██████████| 563/563 [02:18<00:00,  4.06it/s, loss=0.9494, lr=1.00e-06]\n",
      "Validation Loop: 100%|██████████| 63/63 [00:09<00:00,  7.00it/s]"
     ]
    },
    {
     "name": "stdout",
     "output_type": "stream",
     "text": [
      "Epoch 10/10\n",
      "Average Train Loss: 1.8755\n",
      "Average Validation Loss: 2.7671\n",
      "Learning Rate: 1.00e-06\n",
      "--------------------------------------------------\n"
     ]
    },
    {
     "name": "stderr",
     "output_type": "stream",
     "text": [
      "\n"
     ]
    }
   ],
   "source": [
    "train_loss, val_loss = train_clip(\n",
    "    model=model,\n",
    "    train_dataloader=train_dataloader,\n",
    "    val_dataloader=val_dataloader,\n",
    "    num_epochs=10,\n",
    "    learning_rate=1e-4,\n",
    "    weight_decay=0.1,\n",
    "    warmup_ratio=0.1,\n",
    "    device=device\n",
    ")"
   ]
  },
  {
   "cell_type": "code",
   "execution_count": 54,
   "metadata": {},
   "outputs": [],
   "source": [
    "def plot_losses(train_losses, val_losses):\n",
    "    epochs = range(1, len(train_losses) + 1)\n",
    "\n",
    "    plt.figure(figsize=(8, 6))\n",
    "\n",
    "    # Plotting the losses\n",
    "    plt.plot(epochs, train_losses, 'b-', label='Training Loss', linewidth=2)\n",
    "    plt.plot(epochs, val_losses, 'r-', label='Validation Loss', linewidth=2)\n",
    "\n",
    "    # Adding titles and labels\n",
    "    plt.title('Training and Validation Loss Over Epochs', fontsize=14)\n",
    "    plt.xlabel('Epochs', fontsize=12)\n",
    "    plt.ylabel('Loss', fontsize=12)\n",
    "\n",
    "    # Adding a grid\n",
    "    plt.grid(True, linestyle='--', alpha=0.7)\n",
    "\n",
    "    # Adding a legend\n",
    "    plt.legend(loc='upper right', fontsize=12)\n",
    "\n",
    "    # Setting limits for better visualization\n",
    "    plt.xlim(1, len(train_losses))\n",
    "    plt.ylim(min(train_losses + val_losses) * 0.95, max(train_losses + val_losses) * 1.05)\n",
    "\n",
    "    # Show the plot\n",
    "    plt.tight_layout()\n",
    "    plt.show()\n"
   ]
  },
  {
   "cell_type": "code",
   "execution_count": null,
   "metadata": {},
   "outputs": [],
   "source": []
  }
 ],
 "metadata": {
  "kernelspec": {
   "display_name": ".venv",
   "language": "python",
   "name": "python3"
  },
  "language_info": {
   "codemirror_mode": {
    "name": "ipython",
    "version": 3
   },
   "file_extension": ".py",
   "mimetype": "text/x-python",
   "name": "python",
   "nbconvert_exporter": "python",
   "pygments_lexer": "ipython3",
   "version": "3.11.0"
  }
 },
 "nbformat": 4,
 "nbformat_minor": 2
}
